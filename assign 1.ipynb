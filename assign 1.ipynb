{
 "cells": [
  {
   "cell_type": "code",
   "execution_count": null,
   "id": "4b30e390",
   "metadata": {},
   "outputs": [],
   "source": [
    "a=\"Twinkle, twinkle, little star\"\n",
    "b=\"How I wonder what you are\"\n",
    "c=\"Up above the world so high\"\n",
    "d=\"Like a diamond in the sky\"\n",
    "e=\"Twinkle, twinkle, little star\"\n",
    "f=\"How I wonder what you are\"\n",
    "print(a)\n",
    "print(b)\n",
    "print(c)\n",
    "print(d)\n",
    "print(e)\n",
    "print(f)"
   ]
  },
  {
   "cell_type": "code",
   "execution_count": 2,
   "id": "d344307a",
   "metadata": {},
   "outputs": [
    {
     "name": "stdout",
     "output_type": "stream",
     "text": [
      "3.9.7\n"
     ]
    }
   ],
   "source": [
    "from platform import python_version\n",
    "print(python_version())"
   ]
  },
  {
   "cell_type": "code",
   "execution_count": 3,
   "id": "f84ed4bf",
   "metadata": {},
   "outputs": [
    {
     "name": "stdout",
     "output_type": "stream",
     "text": [
      "2022-01-03 22:22:13.653299\n"
     ]
    }
   ],
   "source": [
    "import datetime\n",
    "current=datetime.datetime.now()\n",
    "print (current)"
   ]
  },
  {
   "cell_type": "code",
   "execution_count": 5,
   "id": "f3d7bcb6",
   "metadata": {},
   "outputs": [
    {
     "name": "stdout",
     "output_type": "stream",
     "text": [
      "radius=4\n",
      "50\n"
     ]
    }
   ],
   "source": [
    "r = int(input(\"radius=\"))\n",
    "area=int(3.142*r*r)\n",
    "print(area)"
   ]
  },
  {
   "cell_type": "code",
   "execution_count": 6,
   "id": "ce1b3f87",
   "metadata": {},
   "outputs": [
    {
     "name": "stdout",
     "output_type": "stream",
     "text": [
      "write your first name:talha\n",
      "write your last name:khan\n",
      "talhakhan\n"
     ]
    }
   ],
   "source": [
    "fname=input(\"write your first name:\")\n",
    "lname=input(\"write your last name:\")\n",
    "print(fname +\" \"+lname)\n",
    "\n"
   ]
  },
  {
   "cell_type": "code",
   "execution_count": 9,
   "id": "0fcc3c62",
   "metadata": {},
   "outputs": [
    {
     "name": "stdout",
     "output_type": "stream",
     "text": [
      "write your first name:talha\n",
      "write your last name:khan\n",
      "nahk ahlat\n"
     ]
    }
   ],
   "source": [
    "fname=input(\"write your first name:\")\n",
    "lname=input(\"write your last name:\")\n",
    "full_name= str(fname +\" \"+lname)\n",
    "print(full_name[::-1])\n"
   ]
  },
  {
   "cell_type": "code",
   "execution_count": null,
   "id": "add073ad",
   "metadata": {},
   "outputs": [],
   "source": []
  }
 ],
 "metadata": {
  "kernelspec": {
   "display_name": "Python 3 (ipykernel)",
   "language": "python",
   "name": "python3"
  },
  "language_info": {
   "codemirror_mode": {
    "name": "ipython",
    "version": 3
   },
   "file_extension": ".py",
   "mimetype": "text/x-python",
   "name": "python",
   "nbconvert_exporter": "python",
   "pygments_lexer": "ipython3",
   "version": "3.9.7"
  }
 },
 "nbformat": 4,
 "nbformat_minor": 5
}
